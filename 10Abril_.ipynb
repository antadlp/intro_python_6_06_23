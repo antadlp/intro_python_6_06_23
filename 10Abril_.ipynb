{
  "nbformat": 4,
  "nbformat_minor": 0,
  "metadata": {
    "colab": {
      "provenance": [],
      "authorship_tag": "ABX9TyNZbYTyo/z5roU0Vsc1LRzW",
      "include_colab_link": true
    },
    "kernelspec": {
      "name": "python3",
      "display_name": "Python 3"
    },
    "language_info": {
      "name": "python"
    }
  },
  "cells": [
    {
      "cell_type": "markdown",
      "metadata": {
        "id": "view-in-github",
        "colab_type": "text"
      },
      "source": [
        "<a href=\"https://colab.research.google.com/github/antadlp/intro_python_6_06_23/blob/main/10Abril_.ipynb\" target=\"_parent\"><img src=\"https://colab.research.google.com/assets/colab-badge.svg\" alt=\"Open In Colab\"/></a>"
      ]
    },
    {
      "cell_type": "markdown",
      "source": [
        "# 1 Practice"
      ],
      "metadata": {
        "id": "FqC1ybhxqsNB"
      }
    },
    {
      "cell_type": "markdown",
      "source": [
        "## 1.1 E1"
      ],
      "metadata": {
        "id": "k9_Qm-ECwXvh"
      }
    },
    {
      "cell_type": "code",
      "source": [
        "# Print even numbers from \"2\" to \"256\" with np.linspace()\n",
        "# Print even numbers from \"2\" to \"256\" with np.arange()\n",
        "# Print even numbers from \"2\" to \"256\" using \"for\" loop\n"
      ],
      "metadata": {
        "id": "EAEstoFgwc4G"
      },
      "execution_count": null,
      "outputs": []
    },
    {
      "cell_type": "markdown",
      "source": [
        "## 1.2 E2"
      ],
      "metadata": {
        "id": "QBvbNgZsxQ0I"
      }
    },
    {
      "cell_type": "code",
      "source": [
        "# Create the following function, using \"kwargs\" arguments"
      ],
      "metadata": {
        "id": "ahQcv-0fxTHE"
      },
      "execution_count": null,
      "outputs": []
    },
    {
      "cell_type": "markdown",
      "source": [
        "$x_{1,2}=\\cfrac{-B\\pm\\sqrt{B^{2}-4AC}}{2A}$\n"
      ],
      "metadata": {
        "id": "i-kuhCfty0T_"
      }
    },
    {
      "cell_type": "code",
      "source": [
        "# evaluate\n",
        "\n",
        "# A = 1\n",
        "# B = 2\n",
        "# C = -3\n",
        "\n",
        "# A = 1\n",
        "# B = -9\n",
        "# C = 14\n",
        "\n",
        "# A = 1\n",
        "# B = 11\n",
        "# C = 34\n",
        "\n",
        "# A = 2\n",
        "# B = 7\n",
        "# C = 3\n",
        "\n",
        "# A = 1\n",
        "# B = 0\n",
        "# C = -64\n",
        "\n",
        "# A = 1\n",
        "# B = -12\n",
        "# C = 27"
      ],
      "metadata": {
        "id": "hb1JOKrN0hO0"
      },
      "execution_count": null,
      "outputs": []
    },
    {
      "cell_type": "code",
      "source": [
        "# libraries\n",
        "# import cmath # work with complex numbers\n",
        "# cmath.sqrt(d)\n",
        "\n",
        "\n",
        "# import numpy as np\n",
        "# # A*x**2 + B*x - C = 0\n",
        "# coeff = [A, B, C]\n",
        "# print(f\"roots: {np.roots(coeff)}\")\n"
      ],
      "metadata": {
        "id": "GA9_EYe1ypGH"
      },
      "execution_count": null,
      "outputs": []
    },
    {
      "cell_type": "markdown",
      "source": [
        "# 2. EDA (Exploratory Data Analysis)"
      ],
      "metadata": {
        "id": "4Ywu0U-MyzTW"
      }
    },
    {
      "cell_type": "code",
      "source": [
        "# load files to google colab"
      ],
      "metadata": {
        "id": "fFg8Vbbf080-"
      },
      "execution_count": 3,
      "outputs": []
    },
    {
      "cell_type": "code",
      "source": [
        "import pandas as pd\n",
        "\n",
        "df = pd.read_csv(\"/content/drive/MyDrive/intro_python_ds_6Abril/automobile.csv\")"
      ],
      "metadata": {
        "id": "jQNydAIxEtdB"
      },
      "execution_count": null,
      "outputs": []
    }
  ]
}